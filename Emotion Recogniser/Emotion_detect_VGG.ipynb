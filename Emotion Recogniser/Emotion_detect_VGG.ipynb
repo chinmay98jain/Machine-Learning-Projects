{
 "cells": [
  {
   "cell_type": "code",
   "execution_count": 1,
   "metadata": {},
   "outputs": [
    {
     "name": "stderr",
     "output_type": "stream",
     "text": [
      "Using TensorFlow backend.\n"
     ]
    }
   ],
   "source": [
    "from __future__ import print_function\n",
    "import keras\n",
    "from keras.preprocessing.image import ImageDataGenerator\n",
    "from keras.layers import Dense,Dropout,Activation,Flatten,BatchNormalization,Conv2D,MaxPooling2D\n",
    "from keras.models import Sequential\n",
    "import os\n"
   ]
  },
  {
   "cell_type": "code",
   "execution_count": 2,
   "metadata": {},
   "outputs": [],
   "source": [
    "num_classes=6\n",
    "img_rows,img_cols=48,48\n",
    "batch_size=16"
   ]
  },
  {
   "cell_type": "code",
   "execution_count": 3,
   "metadata": {},
   "outputs": [],
   "source": [
    "train_data='./fer2013/train'\n",
    "validation_data='./fer2013/validation'"
   ]
  },
  {
   "cell_type": "code",
   "execution_count": 4,
   "metadata": {},
   "outputs": [
    {
     "name": "stdout",
     "output_type": "stream",
     "text": [
      "Found 28273 images belonging to 6 classes.\n",
      "Found 3534 images belonging to 6 classes.\n"
     ]
    }
   ],
   "source": [
    "train_datagen=ImageDataGenerator(rescale=1./255,rotation_range=30,shear_range=0.3,zoom_range=0.3,width_shift_range=0.4,height_shift_range=0.4,\n",
    "                                 horizontal_flip=True,fill_mode='nearest')\n",
    "validation_datagen=ImageDataGenerator(rescale=1./255)\n",
    "train_generator=train_datagen.flow_from_directory(train_data,color_mode='grayscale',target_size=(img_rows,img_cols),\n",
    "                                                  batch_size=batch_size,class_mode='categorical',shuffle=True)\n",
    "validation_generator=validation_datagen.flow_from_directory(validation_data,color_mode='grayscale',target_size=(img_rows,img_cols),\n",
    "                                                  batch_size=batch_size,class_mode='categorical',shuffle=True)"
   ]
  },
  {
   "cell_type": "code",
   "execution_count": null,
   "metadata": {},
   "outputs": [],
   "source": []
  },
  {
   "cell_type": "code",
   "execution_count": 5,
   "metadata": {},
   "outputs": [
    {
     "name": "stdout",
     "output_type": "stream",
     "text": [
      "Model: \"sequential_1\"\n",
      "_________________________________________________________________\n",
      "Layer (type)                 Output Shape              Param #   \n",
      "=================================================================\n",
      "conv2d_1 (Conv2D)            (None, 48, 48, 32)        320       \n",
      "_________________________________________________________________\n",
      "activation_1 (Activation)    (None, 48, 48, 32)        0         \n",
      "_________________________________________________________________\n",
      "batch_normalization_1 (Batch (None, 48, 48, 32)        128       \n",
      "_________________________________________________________________\n",
      "conv2d_2 (Conv2D)            (None, 48, 48, 32)        9248      \n",
      "_________________________________________________________________\n",
      "activation_2 (Activation)    (None, 48, 48, 32)        0         \n",
      "_________________________________________________________________\n",
      "batch_normalization_2 (Batch (None, 48, 48, 32)        128       \n",
      "_________________________________________________________________\n",
      "max_pooling2d_1 (MaxPooling2 (None, 24, 24, 32)        0         \n",
      "_________________________________________________________________\n",
      "dropout_1 (Dropout)          (None, 24, 24, 32)        0         \n",
      "_________________________________________________________________\n",
      "conv2d_3 (Conv2D)            (None, 24, 24, 64)        18496     \n",
      "_________________________________________________________________\n",
      "activation_3 (Activation)    (None, 24, 24, 64)        0         \n",
      "_________________________________________________________________\n",
      "batch_normalization_3 (Batch (None, 24, 24, 64)        256       \n",
      "_________________________________________________________________\n",
      "conv2d_4 (Conv2D)            (None, 24, 24, 64)        36928     \n",
      "_________________________________________________________________\n",
      "activation_4 (Activation)    (None, 24, 24, 64)        0         \n",
      "_________________________________________________________________\n",
      "batch_normalization_4 (Batch (None, 24, 24, 64)        256       \n",
      "_________________________________________________________________\n",
      "max_pooling2d_2 (MaxPooling2 (None, 12, 12, 64)        0         \n",
      "_________________________________________________________________\n",
      "dropout_2 (Dropout)          (None, 12, 12, 64)        0         \n",
      "_________________________________________________________________\n",
      "conv2d_5 (Conv2D)            (None, 12, 12, 128)       73856     \n",
      "_________________________________________________________________\n",
      "activation_5 (Activation)    (None, 12, 12, 128)       0         \n",
      "_________________________________________________________________\n",
      "batch_normalization_5 (Batch (None, 12, 12, 128)       512       \n",
      "_________________________________________________________________\n",
      "conv2d_6 (Conv2D)            (None, 12, 12, 128)       147584    \n",
      "_________________________________________________________________\n",
      "activation_6 (Activation)    (None, 12, 12, 128)       0         \n",
      "_________________________________________________________________\n",
      "batch_normalization_6 (Batch (None, 12, 12, 128)       512       \n",
      "_________________________________________________________________\n",
      "max_pooling2d_3 (MaxPooling2 (None, 6, 6, 128)         0         \n",
      "_________________________________________________________________\n",
      "dropout_3 (Dropout)          (None, 6, 6, 128)         0         \n",
      "_________________________________________________________________\n",
      "conv2d_7 (Conv2D)            (None, 6, 6, 256)         295168    \n",
      "_________________________________________________________________\n",
      "activation_7 (Activation)    (None, 6, 6, 256)         0         \n",
      "_________________________________________________________________\n",
      "batch_normalization_7 (Batch (None, 6, 6, 256)         1024      \n",
      "_________________________________________________________________\n",
      "conv2d_8 (Conv2D)            (None, 6, 6, 256)         590080    \n",
      "_________________________________________________________________\n",
      "activation_8 (Activation)    (None, 6, 6, 256)         0         \n",
      "_________________________________________________________________\n",
      "batch_normalization_8 (Batch (None, 6, 6, 256)         1024      \n",
      "_________________________________________________________________\n",
      "max_pooling2d_4 (MaxPooling2 (None, 3, 3, 256)         0         \n",
      "_________________________________________________________________\n",
      "dropout_4 (Dropout)          (None, 3, 3, 256)         0         \n",
      "_________________________________________________________________\n",
      "flatten_1 (Flatten)          (None, 2304)              0         \n",
      "_________________________________________________________________\n",
      "dense_1 (Dense)              (None, 64)                147520    \n",
      "_________________________________________________________________\n",
      "activation_9 (Activation)    (None, 64)                0         \n",
      "_________________________________________________________________\n",
      "batch_normalization_9 (Batch (None, 64)                256       \n",
      "_________________________________________________________________\n",
      "dropout_5 (Dropout)          (None, 64)                0         \n",
      "_________________________________________________________________\n",
      "dense_2 (Dense)              (None, 64)                4160      \n",
      "_________________________________________________________________\n",
      "activation_10 (Activation)   (None, 64)                0         \n",
      "_________________________________________________________________\n",
      "batch_normalization_10 (Batc (None, 64)                256       \n",
      "_________________________________________________________________\n",
      "dropout_6 (Dropout)          (None, 64)                0         \n",
      "_________________________________________________________________\n",
      "dense_3 (Dense)              (None, 6)                 390       \n",
      "_________________________________________________________________\n",
      "activation_11 (Activation)   (None, 6)                 0         \n",
      "=================================================================\n",
      "Total params: 1,328,102\n",
      "Trainable params: 1,325,926\n",
      "Non-trainable params: 2,176\n",
      "_________________________________________________________________\n",
      "None\n"
     ]
    }
   ],
   "source": [
    "model=Sequential()\n",
    "model.add(Conv2D(32,(3,3),padding='same',kernel_initializer=\"he_normal\",\n",
    "                input_shape=(img_rows,img_cols,1)))\n",
    "model.add(Activation('elu'))\n",
    "model.add(BatchNormalization())\n",
    "model.add(Conv2D(32,(3,3),padding='same',kernel_initializer=\"he_normal\",\n",
    "                input_shape=(img_rows,img_cols,1)))\n",
    "model.add(Activation('elu'))\n",
    "model.add(BatchNormalization())\n",
    "model.add(MaxPooling2D(pool_size=(2,2)))\n",
    "model.add(Dropout(0.2))\n",
    "\n",
    "model.add(Conv2D(64,(3,3),padding='same',kernel_initializer=\"he_normal\"))\n",
    "model.add(Activation('elu'))\n",
    "model.add(BatchNormalization())\n",
    "model.add(Conv2D(64,(3,3),padding='same',kernel_initializer=\"he_normal\"))\n",
    "model.add(Activation('elu'))\n",
    "model.add(BatchNormalization())\n",
    "model.add(MaxPooling2D(pool_size=(2,2)))\n",
    "model.add(Dropout(0.2))\n",
    "\n",
    "model.add(Conv2D(128,(3,3),padding='same',kernel_initializer=\"he_normal\"))\n",
    "model.add(Activation('elu'))\n",
    "model.add(BatchNormalization())\n",
    "model.add(Conv2D(128,(3,3),padding='same',kernel_initializer=\"he_normal\"))\n",
    "model.add(Activation('elu'))\n",
    "model.add(BatchNormalization())\n",
    "model.add(MaxPooling2D(pool_size=(2,2)))\n",
    "model.add(Dropout(0.2))\n",
    "\n",
    "model.add(Conv2D(256,(3,3),padding='same',kernel_initializer=\"he_normal\"))\n",
    "model.add(Activation('elu'))\n",
    "model.add(BatchNormalization())\n",
    "model.add(Conv2D(256,(3,3),padding='same',kernel_initializer=\"he_normal\"))\n",
    "model.add(Activation('elu'))\n",
    "model.add(BatchNormalization())\n",
    "model.add(MaxPooling2D(pool_size=(2,2)))\n",
    "model.add(Dropout(0.2))\n",
    "\n",
    "model.add(Flatten())\n",
    "model.add(Dense(64,kernel_initializer=\"he_normal\"))\n",
    "model.add(Activation('elu'))\n",
    "model.add(BatchNormalization())\n",
    "model.add(Dropout(0.5))\n",
    "\n",
    "model.add(Dense(64,kernel_initializer=\"he_normal\"))\n",
    "model.add(Activation('elu'))\n",
    "model.add(BatchNormalization())\n",
    "model.add(Dropout(0.5))\n",
    "\n",
    "model.add(Dense(num_classes,kernel_initializer=\"he_normal\"))\n",
    "model.add(Activation('softmax'))\n",
    "\n",
    "print(model.summary())\n",
    "\n",
    "\n",
    "\n",
    "          \n",
    "          \n",
    "          \n",
    "\n",
    "\n",
    "\n"
   ]
  },
  {
   "cell_type": "code",
   "execution_count": null,
   "metadata": {},
   "outputs": [],
   "source": []
  },
  {
   "cell_type": "code",
   "execution_count": 8,
   "metadata": {},
   "outputs": [],
   "source": [
    "from keras.optimizers import RMSprop,SGD,Adam\n",
    "from keras.callbacks import ModelCheckpoint,EarlyStopping,ReduceLROnPlateau"
   ]
  },
  {
   "cell_type": "code",
   "execution_count": 12,
   "metadata": {},
   "outputs": [
    {
     "name": "stdout",
     "output_type": "stream",
     "text": [
      "Epoch 1/10\n",
      "1767/1767 [==============================] - 617s 349ms/step - loss: 1.7643 - accuracy: 0.2459 - val_loss: 1.8301 - val_accuracy: 0.2489\n",
      "\n",
      "Epoch 00001: val_loss improved from inf to 1.83011, saving model to C:/Users/chinm/PycharmProjects/Emotion Detector/emotion_detect_save.h5\n",
      "Epoch 2/10\n",
      "1767/1767 [==============================] - 579s 328ms/step - loss: 1.7505 - accuracy: 0.2490 - val_loss: 1.8275 - val_accuracy: 0.2035\n",
      "\n",
      "Epoch 00002: val_loss improved from 1.83011 to 1.82749, saving model to C:/Users/chinm/PycharmProjects/Emotion Detector/emotion_detect_save.h5\n",
      "Epoch 3/10\n",
      "1767/1767 [==============================] - 799s 452ms/step - loss: 1.7498 - accuracy: 0.2487 - val_loss: 1.6801 - val_accuracy: 0.2695\n",
      "\n",
      "Epoch 00003: val_loss improved from 1.82749 to 1.68009, saving model to C:/Users/chinm/PycharmProjects/Emotion Detector/emotion_detect_save.h5\n",
      "Epoch 4/10\n",
      "1767/1767 [==============================] - 578s 327ms/step - loss: 1.7457 - accuracy: 0.2516 - val_loss: 1.6091 - val_accuracy: 0.2760\n",
      "\n",
      "Epoch 00004: val_loss improved from 1.68009 to 1.60908, saving model to C:/Users/chinm/PycharmProjects/Emotion Detector/emotion_detect_save.h5\n",
      "Epoch 5/10\n",
      "1767/1767 [==============================] - 583s 330ms/step - loss: 1.7296 - accuracy: 0.2599 - val_loss: 1.6693 - val_accuracy: 0.2823\n",
      "\n",
      "Epoch 00005: val_loss did not improve from 1.60908\n",
      "Epoch 6/10\n",
      "1767/1767 [==============================] - 569s 322ms/step - loss: 1.7158 - accuracy: 0.2700 - val_loss: 1.7545 - val_accuracy: 0.2607\n",
      "\n",
      "Epoch 00006: val_loss did not improve from 1.60908\n",
      "Epoch 7/10\n",
      "1767/1767 [==============================] - 567s 321ms/step - loss: 1.7070 - accuracy: 0.2732 - val_loss: 1.6181 - val_accuracy: 0.3039\n",
      "\n",
      "Epoch 00007: val_loss did not improve from 1.60908\n",
      "Epoch 8/10\n",
      "1767/1767 [==============================] - 596s 337ms/step - loss: 1.6959 - accuracy: 0.2838 - val_loss: 2.0653 - val_accuracy: 0.2754\n",
      "\n",
      "Epoch 00008: val_loss did not improve from 1.60908\n",
      "Epoch 9/10\n",
      "1767/1767 [==============================] - 612s 347ms/step - loss: 1.6912 - accuracy: 0.2830 - val_loss: 1.5582 - val_accuracy: 0.3232\n",
      "\n",
      "Epoch 00009: val_loss improved from 1.60908 to 1.55817, saving model to C:/Users/chinm/PycharmProjects/Emotion Detector/emotion_detect_save.h5\n",
      "Epoch 10/10\n",
      "1767/1767 [==============================] - 567s 321ms/step - loss: 1.6687 - accuracy: 0.2977 - val_loss: 1.6096 - val_accuracy: 0.3675\n",
      "\n",
      "Epoch 00010: val_loss did not improve from 1.55817\n"
     ]
    }
   ],
   "source": [
    "checkpoint=ModelCheckpoint(\"C:/Users/chinm/PycharmProjects/Emotion Detector/emotion_detect_save.h5\",\n",
    "                          monitor=\"val_loss\",mode=\"min\",\n",
    "                          save_best_only=True,verbose=1)\n",
    "earlystop=EarlyStopping(monitor=\"val_loss\",min_delta=0,\n",
    "                       patience=5,verbose=1,\n",
    "                        restore_best_weights=True)\n",
    "reduce_lr=ReduceLROnPlateau(monitor='val_loss',factor=0.2,patience=5,\n",
    "                           verbose=1,min_delta=0.0001)\n",
    "callbacks=[earlystop,checkpoint,reduce_lr]\n",
    "\n",
    "model.compile(loss='categorical_crossentropy',\n",
    "              optimizer=Adam(lr=0.01),\n",
    "             metrics=['accuracy'])\n",
    "\n",
    "nb_train_samples=28273\n",
    "nb_validation_samples=3534\n",
    "epochs=10\n",
    "\n",
    "history=model.fit_generator(train_generator,\n",
    "                            steps_per_epoch=nb_train_samples//batch_size,\n",
    "                           epochs=epochs,\n",
    "                           callbacks=callbacks,\n",
    "                           validation_data=validation_generator,\n",
    "                           validation_steps=nb_validation_samples//batch_size)"
   ]
  },
  {
   "cell_type": "code",
   "execution_count": 13,
   "metadata": {},
   "outputs": [],
   "source": [
    "from keras.models import load_model\n",
    "classifier=load_model(\"C:/Users/chinm/PycharmProjects/Emotion Detector/emotion_detect_save.h5\")"
   ]
  },
  {
   "cell_type": "code",
   "execution_count": 14,
   "metadata": {},
   "outputs": [],
   "source": [
    "from keras.preprocessing import image\n",
    "import numpy as np\n",
    "from os import listdir\n",
    "import cv2\n",
    "from os.path import isfile,join\n",
    "import re"
   ]
  },
  {
   "cell_type": "code",
   "execution_count": 15,
   "metadata": {},
   "outputs": [
    {
     "name": "stdout",
     "output_type": "stream",
     "text": [
      "Found 3534 images belonging to 6 classes.\n"
     ]
    }
   ],
   "source": [
    "validation_generator=validation_datagen.flow_from_directory(validation_data,color_mode='grayscale',target_size=(img_rows,img_cols),\n",
    "                                                  batch_size=batch_size,class_mode='categorical',shuffle=True)\n",
    "class_labels=validation_generator.class_indices\n",
    "class_labels={v:k for k ,v in class_labels.items()}\n",
    "classes=list(class_labels.values())"
   ]
  },
  {
   "cell_type": "code",
   "execution_count": 48,
   "metadata": {},
   "outputs": [],
   "source": [
    "def draw_test(name,pred,im,true_label):\n",
    "    BLACK=[0,0,0]\n",
    "    expanded_image=cv2.copyMakeBorder(im,160,0,0,300,cv2.BORDER_CONSTANT,value=BLACK)\n",
    "    cv2.putText(expanded_image,\"predicted-\"+pred,(20,60),cv2.FONT_HERSHEY_SIMPLEX,1,(0,0,255),2)\n",
    "    cv2.putText(expanded_image, \"true-\" + true_label, (20, 100), cv2.FONT_HERSHEY_SIMPLEX, 1, (0,  255,0), 2)\n",
    "    cv2.imshow(name,expanded_image)"
   ]
  },
  {
   "cell_type": "code",
   "execution_count": 49,
   "metadata": {},
   "outputs": [],
   "source": [
    "def getRandomImage(path,img_width,img_height):\n",
    "    folders=list(filter(lambda x:os.path.isdir(os.path.join(path,x)),os.listdir(path)))\n",
    "    random_directory=np.random.randint(0,len(folders))\n",
    "    path_class=folders[random_directory]\n",
    "    file_path=path+path_class\n",
    "    file_names=[f for f in listdir(file_path) if isfile(join(file_path,f))]\n",
    "    random_file_index=np.random.randint(0,len(file_names))\n",
    "    image_name=file_names[random_file_index]\n",
    "    final_path=file_path+\"/\"+image_name\n",
    "    return image.load_img(final_path,target_size=(img_width,img_height),grayscale=True),final_path,path_class"
   ]
  },
  {
   "cell_type": "code",
   "execution_count": 50,
   "metadata": {},
   "outputs": [],
   "source": [
    "img_width,img_height=48,48\n",
    "model.compile(loss='categorical_crossentropy',optimizer=RMSprop(lr=0.001),metrics=['accuracy'])\n",
    "files=[]\n",
    "predictions=[]\n",
    "true_labels=[]\n",
    "\n",
    "for i in range(0,10):\n",
    "    path='./fer2013/validation/'\n",
    "    img,final_path,true_label=getRandomImage(path,img_width,img_height)\n",
    "    files.append(final_path)\n",
    "    true_labels.append(true_label)\n",
    "    x=image.img_to_array(img)\n",
    "    x=x*1./255\n",
    "    x=np.expand_dims(x,axis=0)\n",
    "    images=np.vstack([x])\n",
    "    classes=model.predict_classes(images,batch_size=10)\n",
    "    predictions.append(classes)\n",
    "\n",
    "for i in range(0,len(files)):\n",
    "    image=cv2.imread((files[i]))\n",
    "    image=cv2.resize(image,None,fx=3,fy=3,interpolation=cv2.INTER_CUBIC)\n",
    "    draw_test(\"Prediction\",class_labels[predictions[i][0]],image,true_labels[i])\n",
    "    cv2.waitKey(0)\n",
    "\n",
    "cv2.destroyAllWindows()"
   ]
  },
  {
   "cell_type": "code",
   "execution_count": 16,
   "metadata": {},
   "outputs": [],
   "source": [
    "face_classifier=cv2.CascadeClassifier('C:/Users/chinm/AppData/Local/Programs/Python/Python37-32/Lib/site-packages/cv2/data/haarcascade_frontalface_default.xml')\n",
    "def face_detector(img):\n",
    "    gray=cv2.cvtColor(img.copy(),cv2.COLOR_BGR2GRAY)\n",
    "    faces=face_classifier.detectMultiScale(gray,1.3,5)\n",
    "    if faces is():\n",
    "        return (0,0,0,0),np.zeros((48,48),np.uint8),img\n",
    "    \n",
    "    for (x,y,w,h) in faces:\n",
    "        x=x-50\n",
    "        y=y-50\n",
    "        w=w+50\n",
    "        h=h+50\n",
    "        cv2.rectangle(img,(x,y),(x+w,y+h),(255,0,0),2)\n",
    "        roi_gray=gray[y:y+h,x:x+w]\n",
    "        try:\n",
    "            roi_gray=cv2.resize(roi_gray,(48,48),interpolation=cv2.INTER_AREA)\n",
    "        except:\n",
    "            return (x,w,y,h),np.zeros((48,48),np.uint8),img\n",
    "    return (x,w,y,h),roi_gray,img\n",
    "    \n",
    "    "
   ]
  },
  {
   "cell_type": "code",
   "execution_count": 17,
   "metadata": {},
   "outputs": [],
   "source": [
    "cap=cv2.VideoCapture(0)\n",
    "while True:\n",
    "    ret,frame=cap.read()\n",
    "    rects,face,img=face_detector(frame)\n",
    "    \n",
    "    if np.sum([face])!=0.0:\n",
    "        roi=face.astype(\"float\")/255.0\n",
    "        roi=keras.preprocessing.image.img_to_array(roi)\n",
    "        roi=np.expand_dims(roi,axis=0)\n",
    "        \n",
    "        preds=classifier.predict(roi)[0]\n",
    "        labels=class_labels[preds.argmax()]\n",
    "        label_position=(rects[0]+int((rects[1]/2)),rects[2]+25)\n",
    "        cv2.putText(img,labels,label_position,cv2.FONT_HERSHEY_SIMPLEX,2,(0,255,0),3)\n",
    "    cv2.imshow(\"Emotion Detector\",img)\n",
    "    if(cv2.waitKey(1)==13):\n",
    "        break\n",
    "cap.release()\n",
    "cv2.destroyAllWindows()\n",
    "    "
   ]
  }
 ],
 "metadata": {
  "kernelspec": {
   "display_name": "Python 3",
   "language": "python",
   "name": "python3"
  },
  "language_info": {
   "codemirror_mode": {
    "name": "ipython",
    "version": 3
   },
   "file_extension": ".py",
   "mimetype": "text/x-python",
   "name": "python",
   "nbconvert_exporter": "python",
   "pygments_lexer": "ipython3",
   "version": "3.7.3"
  }
 },
 "nbformat": 4,
 "nbformat_minor": 2
}
